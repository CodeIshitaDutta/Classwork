{
 "cells": [
  {
   "cell_type": "code",
   "execution_count": null,
   "id": "4b0ed0ca",
   "metadata": {},
   "outputs": [],
   "source": [
    "n = 0\n",
    "while n != 1:\n",
    "    q = input(\"Quit? (y/n)\")\n",
    "    if q == 'y':\n",
    "        n = 1"
   ]
  },
  {
   "cell_type": "code",
   "execution_count": null,
   "id": "b5156250",
   "metadata": {},
   "outputs": [],
   "source": [
    "rate = float(input(\"Enter rate: \"))\n",
    "hrs = float(input(\"Enter hours:\"))\n",
    "pay = hrs * rate\n",
    "pay"
   ]
  },
  {
   "cell_type": "code",
   "execution_count": null,
   "id": "03bf4a4d",
   "metadata": {},
   "outputs": [],
   "source": []
  }
 ],
 "metadata": {
  "kernelspec": {
   "display_name": "Python 3 (ipykernel)",
   "language": "python",
   "name": "python3"
  },
  "language_info": {
   "codemirror_mode": {
    "name": "ipython",
    "version": 3
   },
   "file_extension": ".py",
   "mimetype": "text/x-python",
   "name": "python",
   "nbconvert_exporter": "python",
   "pygments_lexer": "ipython3",
   "version": "3.7.7"
  }
 },
 "nbformat": 4,
 "nbformat_minor": 5
}
