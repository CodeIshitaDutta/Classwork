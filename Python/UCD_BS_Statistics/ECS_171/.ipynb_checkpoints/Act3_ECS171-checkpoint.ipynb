{
 "cells": [
  {
   "cell_type": "markdown",
   "id": "a73cfbc4",
   "metadata": {},
   "source": [
    "# Activity 3 - Ishita Dutta"
   ]
  },
  {
   "cell_type": "code",
   "execution_count": 19,
   "id": "7f802e38",
   "metadata": {},
   "outputs": [],
   "source": [
    "import numpy as np\n",
    "import pandas as pd\n",
    "import math"
   ]
  },
  {
   "cell_type": "code",
   "execution_count": null,
   "id": "9b49884d",
   "metadata": {},
   "outputs": [],
   "source": []
  },
  {
   "cell_type": "code",
   "execution_count": 30,
   "id": "7cc352de",
   "metadata": {},
   "outputs": [
    {
     "data": {
      "text/html": [
       "<div>\n",
       "<style scoped>\n",
       "    .dataframe tbody tr th:only-of-type {\n",
       "        vertical-align: middle;\n",
       "    }\n",
       "\n",
       "    .dataframe tbody tr th {\n",
       "        vertical-align: top;\n",
       "    }\n",
       "\n",
       "    .dataframe thead th {\n",
       "        text-align: right;\n",
       "    }\n",
       "</style>\n",
       "<table border=\"1\" class=\"dataframe\">\n",
       "  <thead>\n",
       "    <tr style=\"text-align: right;\">\n",
       "      <th></th>\n",
       "      <th>temp</th>\n",
       "      <th>Yes</th>\n",
       "      <th>No</th>\n",
       "      <th>total</th>\n",
       "    </tr>\n",
       "  </thead>\n",
       "  <tbody>\n",
       "    <tr>\n",
       "      <th>6</th>\n",
       "      <td>65</td>\n",
       "      <td>1</td>\n",
       "      <td>0</td>\n",
       "      <td>1</td>\n",
       "    </tr>\n",
       "    <tr>\n",
       "      <th>5</th>\n",
       "      <td>69</td>\n",
       "      <td>1</td>\n",
       "      <td>0</td>\n",
       "      <td>1</td>\n",
       "    </tr>\n",
       "    <tr>\n",
       "      <th>3</th>\n",
       "      <td>70</td>\n",
       "      <td>2</td>\n",
       "      <td>0</td>\n",
       "      <td>2</td>\n",
       "    </tr>\n",
       "    <tr>\n",
       "      <th>4</th>\n",
       "      <td>72</td>\n",
       "      <td>1</td>\n",
       "      <td>0</td>\n",
       "      <td>1</td>\n",
       "    </tr>\n",
       "    <tr>\n",
       "      <th>8</th>\n",
       "      <td>73</td>\n",
       "      <td>1</td>\n",
       "      <td>0</td>\n",
       "      <td>1</td>\n",
       "    </tr>\n",
       "    <tr>\n",
       "      <th>7</th>\n",
       "      <td>74</td>\n",
       "      <td>0</td>\n",
       "      <td>1</td>\n",
       "      <td>1</td>\n",
       "    </tr>\n",
       "    <tr>\n",
       "      <th>1</th>\n",
       "      <td>75</td>\n",
       "      <td>0</td>\n",
       "      <td>1</td>\n",
       "      <td>1</td>\n",
       "    </tr>\n",
       "    <tr>\n",
       "      <th>2</th>\n",
       "      <td>77</td>\n",
       "      <td>2</td>\n",
       "      <td>2</td>\n",
       "      <td>4</td>\n",
       "    </tr>\n",
       "    <tr>\n",
       "      <th>9</th>\n",
       "      <td>78</td>\n",
       "      <td>1</td>\n",
       "      <td>0</td>\n",
       "      <td>1</td>\n",
       "    </tr>\n",
       "    <tr>\n",
       "      <th>0</th>\n",
       "      <td>80</td>\n",
       "      <td>1</td>\n",
       "      <td>0</td>\n",
       "      <td>1</td>\n",
       "    </tr>\n",
       "  </tbody>\n",
       "</table>\n",
       "</div>"
      ],
      "text/plain": [
       "   temp  Yes  No  total\n",
       "6    65    1   0      1\n",
       "5    69    1   0      1\n",
       "3    70    2   0      2\n",
       "4    72    1   0      1\n",
       "8    73    1   0      1\n",
       "7    74    0   1      1\n",
       "1    75    0   1      1\n",
       "2    77    2   2      4\n",
       "9    78    1   0      1\n",
       "0    80    1   0      1"
      ]
     },
     "execution_count": 30,
     "metadata": {},
     "output_type": "execute_result"
    }
   ],
   "source": [
    "d = {\"temp\": [80, 75, 77, 70, 72, 69, 65, 74, 73, 78], \n",
    "     \"Yes\":[1, 0, 2, 2, 1, 1, 1, 0, 1, 1], \n",
    "     \"No\":[0, 1, 2, 0, 0, 0, 0, 1, 0, 0]}\n",
    "temp_freq = pd.DataFrame(d)\n",
    "temp_freq['total'] = temp_freq['Yes'] + temp_freq['No']\n",
    "temp_freq = temp_freq.sort_values(by='temp')\n",
    "temp_freq"
   ]
  },
  {
   "cell_type": "code",
   "execution_count": 40,
   "id": "9e3f5c80",
   "metadata": {},
   "outputs": [
    {
     "data": {
      "text/html": [
       "<div>\n",
       "<style scoped>\n",
       "    .dataframe tbody tr th:only-of-type {\n",
       "        vertical-align: middle;\n",
       "    }\n",
       "\n",
       "    .dataframe tbody tr th {\n",
       "        vertical-align: top;\n",
       "    }\n",
       "\n",
       "    .dataframe thead th {\n",
       "        text-align: right;\n",
       "    }\n",
       "</style>\n",
       "<table border=\"1\" class=\"dataframe\">\n",
       "  <thead>\n",
       "    <tr style=\"text-align: right;\">\n",
       "      <th></th>\n",
       "      <th>temp</th>\n",
       "      <th>Yes</th>\n",
       "      <th>No</th>\n",
       "      <th>total</th>\n",
       "    </tr>\n",
       "  </thead>\n",
       "  <tbody>\n",
       "    <tr>\n",
       "      <th>0</th>\n",
       "      <td>&lt;= 70</td>\n",
       "      <td>4</td>\n",
       "      <td>0</td>\n",
       "      <td>4</td>\n",
       "    </tr>\n",
       "    <tr>\n",
       "      <th>1</th>\n",
       "      <td>(70, 75]</td>\n",
       "      <td>2</td>\n",
       "      <td>2</td>\n",
       "      <td>4</td>\n",
       "    </tr>\n",
       "    <tr>\n",
       "      <th>2</th>\n",
       "      <td>&gt; 75</td>\n",
       "      <td>4</td>\n",
       "      <td>2</td>\n",
       "      <td>6</td>\n",
       "    </tr>\n",
       "  </tbody>\n",
       "</table>\n",
       "</div>"
      ],
      "text/plain": [
       "       temp  Yes  No  total\n",
       "0     <= 70    4   0      4\n",
       "1  (70, 75]    2   2      4\n",
       "2      > 75    4   2      6"
      ]
     },
     "execution_count": 40,
     "metadata": {},
     "output_type": "execute_result"
    }
   ],
   "source": [
    "d2 = {\"temp\" : [\"<= 70\", \"(70, 75]\", \"> 75\"],\n",
    "     \"Yes\" : [4, 2, 4],\n",
    "     \"No\" : [0, 2, 2]}\n",
    "new_temp = pd.DataFrame(d2)\n",
    "new_temp['total'] = new_temp['Yes'] + new_temp['No']\n",
    "new_temp"
   ]
  },
  {
   "cell_type": "code",
   "execution_count": 49,
   "id": "acaeb7fb",
   "metadata": {},
   "outputs": [
    {
     "name": "stderr",
     "output_type": "stream",
     "text": [
      "/var/folders/3x/fbbj8n6j3kgfkt85pns_fwyh0000gn/T/ipykernel_59223/2461320002.py:10: SettingWithCopyWarning: \n",
      "A value is trying to be set on a copy of a slice from a DataFrame\n",
      "\n",
      "See the caveats in the documentation: https://pandas.pydata.org/pandas-docs/stable/user_guide/indexing.html#returning-a-view-versus-a-copy\n",
      "  new_temp['entropy'][i] = - ((p_yes * math.log(p_yes, 2)))\n",
      "/var/folders/3x/fbbj8n6j3kgfkt85pns_fwyh0000gn/T/ipykernel_59223/2461320002.py:12: SettingWithCopyWarning: \n",
      "A value is trying to be set on a copy of a slice from a DataFrame\n",
      "\n",
      "See the caveats in the documentation: https://pandas.pydata.org/pandas-docs/stable/user_guide/indexing.html#returning-a-view-versus-a-copy\n",
      "  new_temp['entropy'][i] = - ((p_yes * math.log(p_yes, 2)) + (p_no * math.log(p_no, 2)))\n"
     ]
    },
    {
     "data": {
      "text/html": [
       "<div>\n",
       "<style scoped>\n",
       "    .dataframe tbody tr th:only-of-type {\n",
       "        vertical-align: middle;\n",
       "    }\n",
       "\n",
       "    .dataframe tbody tr th {\n",
       "        vertical-align: top;\n",
       "    }\n",
       "\n",
       "    .dataframe thead th {\n",
       "        text-align: right;\n",
       "    }\n",
       "</style>\n",
       "<table border=\"1\" class=\"dataframe\">\n",
       "  <thead>\n",
       "    <tr style=\"text-align: right;\">\n",
       "      <th></th>\n",
       "      <th>temp</th>\n",
       "      <th>Yes</th>\n",
       "      <th>No</th>\n",
       "      <th>total</th>\n",
       "      <th>entropy</th>\n",
       "    </tr>\n",
       "  </thead>\n",
       "  <tbody>\n",
       "    <tr>\n",
       "      <th>0</th>\n",
       "      <td>&lt;= 70</td>\n",
       "      <td>4</td>\n",
       "      <td>0</td>\n",
       "      <td>4</td>\n",
       "      <td>0.000000</td>\n",
       "    </tr>\n",
       "    <tr>\n",
       "      <th>1</th>\n",
       "      <td>(70, 75]</td>\n",
       "      <td>2</td>\n",
       "      <td>2</td>\n",
       "      <td>4</td>\n",
       "      <td>1.000000</td>\n",
       "    </tr>\n",
       "    <tr>\n",
       "      <th>2</th>\n",
       "      <td>&gt; 75</td>\n",
       "      <td>4</td>\n",
       "      <td>2</td>\n",
       "      <td>6</td>\n",
       "      <td>0.918296</td>\n",
       "    </tr>\n",
       "  </tbody>\n",
       "</table>\n",
       "</div>"
      ],
      "text/plain": [
       "       temp  Yes  No  total   entropy\n",
       "0     <= 70    4   0      4  0.000000\n",
       "1  (70, 75]    2   2      4  1.000000\n",
       "2      > 75    4   2      6  0.918296"
      ]
     },
     "execution_count": 49,
     "metadata": {},
     "output_type": "execute_result"
    }
   ],
   "source": [
    "new_temp['entropy'] = 0 \n",
    "played_temp = 0\n",
    "ln = new_temp['total'].sum()\n",
    "for i in range(len(new_temp['Yes'])):\n",
    "    p_yes = new_temp['Yes'][i] / new_temp['total'][i]\n",
    "    p_no = new_temp['No'][i] / new_temp['total'][i]\n",
    "    if p_yes == 0:\n",
    "        new_temp['entropy'][i] = - ((p_no * math.log(p_no, 2)))\n",
    "    elif p_no == 0:\n",
    "        new_temp['entropy'][i] = - ((p_yes * math.log(p_yes, 2)))\n",
    "    else:    \n",
    "        new_temp['entropy'][i] = - ((p_yes * math.log(p_yes, 2)) + (p_no * math.log(p_no, 2)))\n",
    "    played_temp= played_temp + ((new_temp['total'][i] / ln) * new_temp['entropy'][i]) \n",
    "played = - ((10/14 * math.log(10/14, 2)) + (4/14 * math.log(4/14, 2)))\n",
    "new_temp"
   ]
  },
  {
   "cell_type": "code",
   "execution_count": 46,
   "id": "66dacbad",
   "metadata": {},
   "outputs": [
    {
     "data": {
      "text/plain": [
       "0.6792696431662097"
      ]
     },
     "execution_count": 46,
     "metadata": {},
     "output_type": "execute_result"
    }
   ],
   "source": [
    "played_temp"
   ]
  },
  {
   "cell_type": "code",
   "execution_count": 50,
   "id": "0a772eb6",
   "metadata": {},
   "outputs": [
    {
     "data": {
      "text/plain": [
       "0.863120568566631"
      ]
     },
     "execution_count": 50,
     "metadata": {},
     "output_type": "execute_result"
    }
   ],
   "source": [
    "played"
   ]
  },
  {
   "cell_type": "code",
   "execution_count": 52,
   "id": "6364bd7f",
   "metadata": {},
   "outputs": [
    {
     "name": "stdout",
     "output_type": "stream",
     "text": [
      "Temperature IG:  0.18385092540042125 bits\n"
     ]
    }
   ],
   "source": [
    "print(\"Temperature IG: \", played - played_temp, \"bits\")"
   ]
  },
  {
   "cell_type": "code",
   "execution_count": null,
   "id": "ddcb9731",
   "metadata": {},
   "outputs": [],
   "source": []
  },
  {
   "cell_type": "code",
   "execution_count": null,
   "id": "a8013331",
   "metadata": {},
   "outputs": [],
   "source": [
    "d_3 = {\"Wind\": [\"yes\", \"no\"], \n",
    "     \"Yes\":[10], \n",
    "     \"No\":[4]}\n",
    "wind_freq = pd.DataFrame(d_3)\n",
    "wind_freq['total'] = wind_freq['Yes'] + wind_freq['No']\n",
    "wind_freq['entropy'] = 0 \n",
    "played_wind = 0\n",
    "ln = wind_freq['total'].sum()\n",
    "for i in range(len(wind_freq['Yes'])):\n",
    "    p_yes = wind_freq['Yes'][i] / wind_freq['total'][i]\n",
    "    p_no = wind_freq['No'][i] / wind_freq['total'][i]\n",
    "    if p_yes == 0:\n",
    "        wind_freq['entropy'][i] = - ((p_no * math.log(p_no, 2)))\n",
    "    elif p_no == 0:\n",
    "        wind_freq['entropy'][i] = - ((p_yes * math.log(p_yes, 2)))\n",
    "    else:    \n",
    "        wind_freq['entropy'][i] = - ((p_yes * math.log(p_yes, 2)) + (p_no * math.log(p_no, 2)))\n",
    "    played_wind= played_wind + ((wind_freq['total'][i] / ln) * wind_freq['entropy'][i]) \n",
    "played_w = - ((10/14 * math.log(10/14, 2)) + (4/14 * math.log(4/14, 2)))\n",
    "wind_freq\n"
   ]
  },
  {
   "cell_type": "code",
   "execution_count": null,
   "id": "87dcd854",
   "metadata": {},
   "outputs": [],
   "source": [
    "print(\"Wind IG: \", played_w - played_wind, \"bits\")"
   ]
  },
  {
   "cell_type": "code",
   "execution_count": null,
   "id": "77e79d73",
   "metadata": {},
   "outputs": [],
   "source": []
  },
  {
   "cell_type": "code",
   "execution_count": null,
   "id": "e18ca620",
   "metadata": {},
   "outputs": [],
   "source": []
  },
  {
   "cell_type": "code",
   "execution_count": null,
   "id": "9f2ed28b",
   "metadata": {},
   "outputs": [],
   "source": []
  },
  {
   "cell_type": "code",
   "execution_count": null,
   "id": "f6b6b509",
   "metadata": {},
   "outputs": [],
   "source": []
  },
  {
   "cell_type": "code",
   "execution_count": null,
   "id": "2948d0c0",
   "metadata": {},
   "outputs": [],
   "source": []
  }
 ],
 "metadata": {
  "kernelspec": {
   "display_name": "Python 3 (ipykernel)",
   "language": "python",
   "name": "python3"
  },
  "language_info": {
   "codemirror_mode": {
    "name": "ipython",
    "version": 3
   },
   "file_extension": ".py",
   "mimetype": "text/x-python",
   "name": "python",
   "nbconvert_exporter": "python",
   "pygments_lexer": "ipython3",
   "version": "3.11.0"
  }
 },
 "nbformat": 4,
 "nbformat_minor": 5
}
