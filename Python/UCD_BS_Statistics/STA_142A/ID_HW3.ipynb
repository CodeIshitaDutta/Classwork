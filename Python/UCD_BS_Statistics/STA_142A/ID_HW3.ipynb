{
 "cells": [
  {
   "cell_type": "markdown",
   "id": "c484d9a4",
   "metadata": {},
   "source": [
    "# 1\n",
    "## a\n",
    "$\\hat{\\beta_r}(\\lambda) = \\frac{y_i}{1+\\lambda}$\\\\\n",
    "(Derivative by $\\beta_i$, $-2y_i + 2\\beta_i + 2\\lambda\\beta_i = 0$)\\\\\n",
    "it can explain that when $\\lambda$ is getting larger, $RSS$ is less important than $penalty$ part, and when $\\lambda$ is getting smaller, $RSS$ is important than $penalty$ part.\n",
    "    \n",
    "## b\n",
    "$\\hat{\\beta_L}(\\lambda)$ = \n",
    "\\begin{cases}\n",
    "    y_i - \\frac{\\lambda}{2}&\\text{if $y_i > \\frac{\\lambda}{2}$} \\\\\n",
    "    y_i + \\frac{\\lambda}{2} &\\text{if $y_i < -\\frac{\\lambda}{2}$} \\\\\n",
    "    0$ &\\text{if $|y_i| \\leq \\frac{\\lambda}{2}$}\n",
    "\\end{cases}\\\n",
    "Derivative by $\\beta_i$, \n",
    "\\begin{cases}\n",
    "    2\\beta_i - 2y_i + \\lambda = 0&\\text{if $\\beta_i > 0$} \\\\\n",
    "    2\\beta_i - 2y_i - \\lambda = 0&\\text{if $\\beta_i < 0$} \\\\\n",
    "    \\beta_i = 0 &\\text{if $penalty$ part is more important.})\n",
    "\\end{cases}\n",
    "    \n",
    "## c\n",
    "$\\hat{\\beta_r}(1) = f_r(y_1) = \\frac{y_1}{1+1}$ = $\\frac{y_1}{2} $\\\\\n",
    "$\\hat{\\beta_L}(1) = f_L(y_1) = $\n",
    "\\begin{cases}\n",
    "    y_1 - \\frac{1}{2}&\\text{if $y_1 > \\frac{1}{2}$} \\\\\n",
    "    y_1 + \\frac{1}{2}&\\text{if $y_1 < -\\frac{1}{2}$} \\\\\n",
    "    0 &\\text{if $|y_1| \\leq \\frac{1}{2}$}\n",
    "\\end{cases}\n",
    "\n",
    "The difference for the graphs of these functions would be that Lasso has one line, therefore one point on the x axis, whereas ridge regression is more on the idea of piecewise functions, so it is able to cover more values on the x axis.\n"
   ]
  },
  {
   "cell_type": "markdown",
   "id": "d07b7c5d",
   "metadata": {},
   "source": [
    "# 2\n",
    "\n",
    "## a\n",
    "n=100 p=1\n",
    "$Y = X - 2X^2 + \\epsilon$"
   ]
  },
  {
   "cell_type": "code",
   "execution_count": 37,
   "id": "6fb60e4e",
   "metadata": {},
   "outputs": [],
   "source": [
    "# setup\n",
    "import numpy as np\n",
    "np.random.seed(2020)\n",
    "x = np.random.normal(0, 1, 100)\n",
    "y = x - 2*x**2 + np.random.normal(0, 1, 100)"
   ]
  },
  {
   "cell_type": "markdown",
   "id": "c681a122",
   "metadata": {},
   "source": [
    "## b"
   ]
  },
  {
   "cell_type": "code",
   "execution_count": 36,
   "id": "694e2bf7",
   "metadata": {
    "scrolled": true
   },
   "outputs": [
    {
     "name": "stdout",
     "output_type": "stream",
     "text": [
      "<matplotlib.collections.PathCollection object at 0x1315e7fd0>\n"
     ]
    },
    {
     "data": {
      "image/png": "[encoded data removed]",
      "text/plain": [
       "<Figure size 640x480 with 1 Axes>"
      ]
     },
     "metadata": {},
     "output_type": "display_data"
    }
   ],
   "source": [
    "import matplotlib.pyplot as plt\n",
    "print(plt.scatter(x, y))"
   ]
  },
  {
   "cell_type": "markdown",
   "id": "4b65b2ad",
   "metadata": {},
   "source": [
    "The plot has a parabolic shape."
   ]
  },
  {
   "cell_type": "markdown",
   "id": "86133e1f",
   "metadata": {},
   "source": [
    "## c"
   ]
  },
  {
   "cell_type": "markdown",
   "id": "421c91cc",
   "metadata": {},
   "source": [
    "So, I can't figure out the code per say, but I watched a video, so I'm basing my answers off of the video:\n",
    "https://www.youtube.com/watch?v=fSytzGwwBVw&ab_channel=StatQuestwithJoshStarmer"
   ]
  },
  {
   "cell_type": "code",
   "execution_count": 35,
   "id": "35aad84c",
   "metadata": {},
   "outputs": [
    {
     "data": {
      "text/plain": [
       "array([-1.26485598,  1.18428092,  0.35504683, -0.29794265, -0.53348411,\n",
       "        0.43950814,  0.54291277,  0.0241124 , -0.92766094, -0.31561873,\n",
       "       -1.12237343, -0.42659443,  0.09512656, -0.36923721, -0.72621846,\n",
       "       -0.50074098,  0.5363497 , -0.23053894,  1.76807504,  1.56410933,\n",
       "        0.74827377,  0.04365697, -0.12700802, -0.45609102,  0.11494395,\n",
       "        0.70437554,  0.06813965,  0.08436036,  0.38191497,  1.22619163,\n",
       "       -1.08515546, -1.76482023, -0.57813187,  0.10821255,  0.1696078 ,\n",
       "       -0.30340737,  1.13461684, -1.03128696, -0.15922701,  2.35059261,\n",
       "        0.66432236,  0.3807876 ,  1.1706297 ,  0.15586237, -1.81861597,\n",
       "       -0.53052316, -0.00319387,  0.51401591,  0.20775132,  1.12916395,\n",
       "       -0.37793704,  0.4167056 ,  0.81360612,  0.18209833,  0.98752892,\n",
       "        0.01593652, -1.60126095,  0.68581686, -1.46421469,  0.10607864,\n",
       "       -1.06375712,  0.3292264 ,  0.67566384,  0.74817579,  0.96208125,\n",
       "        0.44068331, -0.10309954,  1.41993911, -0.42804955, -0.09340339,\n",
       "       -0.54759315, -1.91187292,  0.57805191, -1.35884252,  0.95373732,\n",
       "        1.95188092,  0.56718614, -0.28410401,  1.07920371, -0.9124601 ,\n",
       "       -0.78612468,  1.00171458, -1.02149358, -0.68324767,  1.32335008,\n",
       "       -0.23062531, -0.45252927, -1.56507692,  0.84147188,  0.25385254,\n",
       "       -0.78283534, -0.13347381, -0.09534441, -0.41986549,  1.10244804,\n",
       "       -0.15668114, -0.27422559,  0.94323136, -1.03596856,  0.36139273])"
      ]
     },
     "execution_count": 35,
     "metadata": {},
     "output_type": "execute_result"
    }
   ],
   "source": [
    "# This is what I had before running out of time\n",
    "np.random.seed(135)\n",
    "from sklearn.preprocessing import PolynomialFeatures\n",
    "x = np.random.normal(0, 1, 100)\n",
    "x"
   ]
  },
  {
   "cell_type": "markdown",
   "id": "756a3f5f",
   "metadata": {},
   "source": [
    "## d\n",
    "LOOCV does not depend on randomness, so changing the seed won't change anything.\n",
    "\n",
    "## e\n",
    "This should have the least error, because our orignal model is also quadratic.\n",
    "\n",
    "## f\n",
    "Statistical significance of coefficients by model:\n",
    "\n",
    "#### Linear model \n",
    "This would not be as accurate, as there would be a good amount of error on the ends of the model.\n",
    "\n",
    "#### Quadratic model \n",
    "This should be the best as the model is most similar to our original data\n",
    "\n",
    "#### Cubic model \n",
    "In the general graph of the cubic function, this would be the worst. It would have large error on one of the ends, and large error to account for the change in the middle of the graph. \n",
    "\n",
    "#### Quartic model \n",
    "This would be second best, as the ends are modeled properly, but the middle might not be properly modeled because of the way the quadratic graph looks."
   ]
  }
 ],
 "metadata": {
  "kernelspec": {
   "display_name": "Python 3 (ipykernel)",
   "language": "python",
   "name": "python3"
  },
  "language_info": {
   "codemirror_mode": {
    "name": "ipython",
    "version": 3
   },
   "file_extension": ".py",
   "mimetype": "text/x-python",
   "name": "python",
   "nbconvert_exporter": "python",
   "pygments_lexer": "ipython3",
   "version": "3.11.0"
  }
 },
 "nbformat": 4,
 "nbformat_minor": 5
}
